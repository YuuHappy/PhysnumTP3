{
 "cells": [
  {
   "cell_type": "markdown",
   "metadata": {},
   "source": [
    "# Question 1: Décomposition QR par la méthode Householder"
   ]
  },
  {
   "cell_type": "markdown",
   "metadata": {},
   "source": [
    "### a. Démontrez que les matrices de réflexion $\\mathbf{Q_i}$ sont orthogonales"
   ]
  },
  {
   "cell_type": "markdown",
   "metadata": {},
   "source": [
    "### b. Démontrez $\\mathbf{Q} = \\mathbf{Q}_0^T \\mathbf{Q}_1^T $ ... $\\mathbf{Q}_{n-2}^T \\mathbf{Q}_{n-1}^{T}$ et que la matrice $\\mathbf{Q}$ est orthogonale"
   ]
  },
  {
   "cell_type": "markdown",
   "metadata": {},
   "source": [
    "### c. Implémentez la fonction *householder_qr* qui prend en argument une matrice A et qui retourne les matrices $\\mathbf{Q}$ et $\\mathbf{R}$ obtenues par la méthode de Householder."
   ]
  },
  {
   "cell_type": "markdown",
   "metadata": {},
   "source": [
    "### d. À l’aide d’une matrice de dimension 4 × 3 de votre choix, testez votre fonction householder_qr et comparez les résultats obtenus avec ceux obtenus à l’aide de la fonction *numpy.linalg.qr*. Les matrices sont-elles exactement les mêmes ? Si non, est-ce un problème ? "
   ]
  },
  {
   "cell_type": "markdown",
   "metadata": {},
   "source": [
    "### e. À l’aide de la matrice utilisée en $\\mathbf{d}$, illustrez comment la multiplication successive des matrices $\\mathbf{Q_i}$ triangularise progressivement la matrice $\\mathbf{A}$. Dans l’élan, assurez-vous que les matrices $\\mathbf{Q}$ et $\\mathbf{R}$ obtenues sont bien orthogonale et triangulaire supérieure, respectivement.\n"
   ]
  },
  {
   "cell_type": "markdown",
   "metadata": {},
   "source": [
    "# Question 2 : Mesures imprécises dans un jeu de bataille navale"
   ]
  },
  {
   "cell_type": "markdown",
   "metadata": {},
   "source": [
    "### a. Modifiez votre code de décomposition QR pour qu’il retourne la décomposition QR réduite de la matrice d’entrée lorsque l’argument additionnel *reduite=True* lui est passé.\n"
   ]
  },
  {
   "cell_type": "markdown",
   "metadata": {},
   "source": [
    "### b. Utilisez votre code pour résoudre approximativement l’équation suivante avec les données de bataille_navale_equipe015.csv."
   ]
  },
  {
   "cell_type": "markdown",
   "metadata": {},
   "source": [
    "$$\\underbrace{\\left[\\begin{array}{ccc}\n",
    "1 & x_1 & x_1^2 \\\\\n",
    "1 & x_2 & x_2^2 \\\\\n",
    "\\vdots & \\vdots & \\vdots \\\\\n",
    "1 & x_n & x_n^2\n",
    "\\end{array}\\right]}_{\\mathbf{X}}\\left[\\begin{array}{l}\n",
    "\\alpha_0 \\\\\n",
    "\\alpha_1 \\\\\n",
    "\\alpha_2\n",
    "\\end{array}\\right]=\\underbrace{\\left[\\begin{array}{c}\n",
    "y_1 \\\\\n",
    "y_2 \\\\\n",
    "\\vdots \\\\\n",
    "y_n\n",
    "\\end{array}\\right]}_{\\mathbf{Y}}$$"
   ]
  },
  {
   "cell_type": "markdown",
   "metadata": {},
   "source": [
    "### c. Tracez les données (cercles noirs) et la solution estimée de la trajectoire(ligne pleine de la couleur de votre choix) donnée par l’équation suivante:"
   ]
  },
  {
   "cell_type": "markdown",
   "metadata": {},
   "source": [
    "$$y(x) = \\alpha_0 + \\alpha_1 x + \\alpha_2 x^2$$"
   ]
  },
  {
   "cell_type": "markdown",
   "metadata": {},
   "source": [
    "### d. Obtenez la position d’impact du projectile (à y = 0) en résolvant l’équation quadratique $y(x) = \\alpha_0 + \\alpha_1 x + \\alpha_2 x^2$ pour x à l’aide d’une implémentation personnelle de la méthode de la bissection. Comparez votre solution avec celle obtenue en résolvant cette même équation analytiquement. Considérant que votre embarcation se situe à la position (x, y) = (0, 0), quelle est la distance horizontale vous séparant du point d’impact ?"
   ]
  },
  {
   "cell_type": "markdown",
   "metadata": {},
   "source": [
    "# Question 3: Modèle épidemiologique SIR sur réseau"
   ]
  },
  {
   "cell_type": "markdown",
   "metadata": {},
   "source": [
    "### a) Trouvez analytiquement toutes les solutions de l’équation cubique $$u = \\frac{1}{[1+T(\\kappa-1)(1-u)^2]} \\equiv f(u)$$"
   ]
  },
  {
   "cell_type": "markdown",
   "metadata": {},
   "source": [
    "### b. Démontrez laquelle des solutions obtenues précédemment (ou une combinaison de celles-ci) correspond à u, soit la solution recherchée de l’équation"
   ]
  },
  {
   "cell_type": "markdown",
   "metadata": {},
   "source": [
    "### c. Tracez $R_{\\infty}$ en fonction de T et identifiez tout changement qualitatif de $R_{\\infty}$. Comment interprétez-vous ce changement (ou cette absence de changement) ?"
   ]
  },
  {
   "cell_type": "markdown",
   "metadata": {},
   "source": [
    "### d. Résolvez numériquement l’équation à l’aide d’implémentations personnelles de la méthode par relaxation et de la méthode de Newton-Raphson pour 20 valeurs de T uniformément distribuées dans l’intervalle [0, 1]."
   ]
  }
 ],
 "metadata": {
  "kernelspec": {
   "display_name": "Python 3",
   "language": "python",
   "name": "python3"
  },
  "language_info": {
   "codemirror_mode": {
    "name": "ipython",
    "version": 3
   },
   "file_extension": ".py",
   "mimetype": "text/x-python",
   "name": "python",
   "nbconvert_exporter": "python",
   "pygments_lexer": "ipython3",
   "version": "3.11.9"
  }
 },
 "nbformat": 4,
 "nbformat_minor": 2
}
