{
   "cells": [
      {
         "cell_type": "markdown",
         "metadata": {},
         "source": [
            "# Question 1: Décomposition QR par la méthode Householder"
         ]
      },
      {
         "cell_type": "markdown",
         "metadata": {},
         "source": [
            "### a. Démontrez que les matrices de réflexion $\\mathbf{Q_i}$ sont orthogonales\n",
            "\n",
            "Nous devons démontrer que les matrices $\\mathbf{Q_i}$ sont orthogonales, c'est-à-dire que $\\mathbf{Q_i}^T \\mathbf{Q_i} = \\mathbf{I}$.\n",
            "\n",
            "La matrice $\\mathbf{Q_i}$ est définie comme :\n",
            "$$\\mathbf{Q_i} = \\begin{pmatrix} \\mathbf{I_i} & 0 \\\\ 0 & \\mathbf{H_{m,i}} \\end{pmatrix}$$\n",
            "où $\\mathbf{I_i}$ est la matrice identité de dimension $i \\times i$ et $\\mathbf{H_{m,i}}$ est la matrice de réflexion de Householder.\n",
            "\n",
            "Nous devons d'abord montrer que $\\mathbf{H_{m,i}}$ est orthogonale, ce qui signifie que $\\mathbf{H_{m,i}}^T \\mathbf{H_{m,i}} = \\mathbf{I}$. Cette propriété peut être démontrée en utilisant les relations suivantes pour $\\mathbf{H_{m,i}}$ :\n",
            "$$\\mathbf{H_{m,i}} = \\mathbf{I_{m-i}} - 2 \\frac{v_{m,i} v_{m,i}^T}{v_{m,i}^T v_{m,i}}$$\n",
            "où $v_{m,i}$ est un vecteur dépendant de la matrice $A$. En développant le produit $\\mathbf{H_{m,i}}^T \\mathbf{H_{m,i}}$, on peut vérifier qu'il donne la matrice identité.\n",
            "\n",
            "Ensuite, pour $\\mathbf{Q_i}$, nous avons :\n",
            "$$\\mathbf{Q_i^T Q_i} = \\begin{pmatrix} \\mathbf{I_i^T} & 0 \\\\ 0 & \\mathbf{H_{m,i}^T} \\end{pmatrix} \\begin{pmatrix} \\mathbf{I_i} & 0 \\\\ 0 & \\mathbf{H_{m,i}} \\end{pmatrix} = \\begin{pmatrix} \\mathbf{I_i} & 0 \\\\ 0 & \\mathbf{I_{m-i}} \\end{pmatrix} = \\mathbf{I}$$\n",
            "Ce qui montre que $\\mathbf{Q_i}$ est orthogonale."
         ]
      },
      {
         "cell_type": "markdown",
         "metadata": {},
         "source": [
            "### b. Démontrez $\\mathbf{Q} = \\mathbf{Q}_0^T \\mathbf{Q}_1^T \\dots \\mathbf{Q}_{n-2}^T \\mathbf{Q}_{n-1}^{T}$ et que la matrice $\\mathbf{Q}$ est orthogonale\n",
            "\n",
            "La matrice $\\mathbf{Q}$ dans la décomposition QR par la méthode de Householder est définie comme le produit des matrices $\\mathbf{Q_i}$ :\n",
            "$$\\mathbf{Q} = \\mathbf{Q_0^T Q_1^T \\dots Q_{n-2}^T Q_{n-1}^T}$$\n",
            "Puisque chaque matrice $\\mathbf{Q_i}$ est orthogonale (comme démontré dans la section a), le produit des matrices orthogonales reste orthogonal. Ainsi, la matrice $\\mathbf{Q}$ est également orthogonale.\n",
            "En effet, pour toutes matrices orthogonales $\\mathbf{A}$ et $\\mathbf{B}$, on a : $\\mathbf{A^T A = I}$ et $\\mathbf{B^T B = I}$, donc $\\mathbf{(A B)^T (A B) = I}$."
         ]
      },
      {
         "cell_type": "markdown",
         "metadata": {},
         "source": [
            "### c. Implémentez la fonction *householder_qr* qui prend en argument une matrice A et qui retourne les matrices $\\mathbf{Q}$ et $\\mathbf{R}$ obtenues par la méthode de Householder."
         ]
      },
      {
         "cell_type": "code",
         "execution_count": 1,
         "metadata": {},
         "outputs": [],
         "source": [
            "import numpy as np\n",
            "\n",
            "def householder_qr(A):\n",
            "    \"\"\"\n",
            "    Effectue la décomposition QR d'une matrice A par la méthode de Householder.\n",
            "    \n",
            "    Paramètres:\n",
            "    A (numpy.ndarray): Matrice d'entrée (m x n).\n",
            "    \n",
            "    Retourne:\n",
            "    Q (numpy.ndarray): Matrice orthogonale (m x n).\n",
            "    R (numpy.ndarray): Matrice triangulaire supérieure (n x n).\n",
            "    \"\"\"\n",
            "    # Dimensions de la matrice A\n",
            "    m, n = A.shape\n",
            "    \n",
            "    # Initialisation de Q comme la matrice identité de taille m x m\n",
            "    Q = np.eye(m)\n",
            "    \n",
            "    # Processus de décomposition\n",
            "    for i in range(n):\n",
            "        # Extraire le vecteur à partir de la i-ième colonne d'A\n",
            "        x = A[i:m, i]\n",
            "        \n",
            "        # Calcul du vecteur v pour la réflexion de Householder\n",
            "        e1 = np.zeros_like(x)\n",
            "        e1[0] = 1\n",
            "        alpha = np.sign(x[0]) * np.linalg.norm(x)\n",
            "        v = x + alpha * e1\n",
            "        v = v / np.linalg.norm(v)  # Normaliser le vecteur v\n",
            "        \n",
            "        # Appliquer la réflexion à A (notez que nous appliquons H à partir de la sous-matrice d'A)\n",
            "        A[i:m, i:n] = A[i:m, i:n] - 2 * np.outer(v, np.dot(v.T, A[i:m, i:n]))\n",
            "        \n",
            "        # Mettre à jour la matrice Q\n",
            "        Q[i:m, i:m] = Q[i:m, i:m] - 2 * np.outer(v, np.dot(v.T, Q[i:m, i:m]))\n",
            "        \n",
            "        # Affichage de l'état après chaque itération\n",
            "        print(f\"\\nAprès itération {i+1}:\")\n",
            "        print(\"Matrice Q mise à jour:\")\n",
            "        print(Q)\n",
            "        print(\"Matrice A après réflexion:\")\n",
            "        print(A)\n",
            "\n",
            "    # R est la matrice triangulaire supérieure qui reste dans A\n",
            "    R = A[:n, :]\n",
            "    \n",
            "    # Nous ajustons Q pour être de taille m x n, pas m x m\n",
            "    Q = Q[:, :n]\n",
            "    \n",
            "    return Q, R"
         ]
      },
      {
         "cell_type": "markdown",
         "metadata": {},
         "source": [
            "Puisqu'on manipule plusieurs vecteurs, il y a des erreurs numériques qui s'additionnent et qui finissent par induire une différence dans le résultat."
         ]
      },
      {
         "cell_type": "markdown",
         "metadata": {},
         "source": [
            "### d. À l’aide d’une matrice de dimension 4 × 3 de votre choix, testez votre fonction householder_qr et comparez les résultats obtenus avec ceux obtenus à l’aide de la fonction *numpy.linalg.qr*. Les matrices sont-elles exactement les mêmes ? Si non, est-ce un problème ?"
         ]
      },
      {
         "cell_type": "code",
         "execution_count": null,
         "metadata": {},
         "outputs": [
            {
               "name": "stdout",
               "output_type": "stream",
               "text": [
                  "\n",
                  "Après itération 1:\n",
                  "Matrice Q mise à jour:\n",
                  "[[-0.29542458 -0.37956    -0.26673817 -0.8351702 ]\n",
                  " [-0.37956     0.88878874 -0.07815441 -0.24470526]\n",
                  " [-0.26673817 -0.07815441  0.9450765  -0.17196815]\n",
                  " [-0.8351702  -0.24470526 -0.17196815  0.46155934]]\n",
                  "Matrice A après réflexion:\n",
                  "[[-1.02136925e+00 -1.18764976e+00 -1.09165150e+00]\n",
                  " [ 5.55111512e-17  1.38212191e-01  7.51635698e-02]\n",
                  " [ 5.55111512e-17  2.44931299e-01  1.56304534e-01]\n",
                  " [ 1.11022302e-16 -8.80775897e-01 -3.22016335e-01]]\n",
                  "\n",
                  "Après itération 2:\n",
                  "Matrice Q mise à jour:\n",
                  "[[-0.29542458 -0.37956    -0.26673817 -0.8351702 ]\n",
                  " [-0.37956    -0.3452673  -0.40249597  0.52182461]\n",
                  " [-0.26673817 -0.36255348  0.87032913  0.0046854 ]\n",
                  " [-0.8351702   0.77799722  0.09682428 -0.17368895]]\n",
                  "Matrice A après réflexion:\n",
                  "[[-1.02136925e+00 -1.18764976e+00 -1.09165150e+00]\n",
                  " [ 5.55111512e-17 -9.24586465e-01 -3.59400265e-01]\n",
                  " [ 5.55111512e-17  5.55111512e-17  5.61554755e-02]\n",
                  " [ 1.11022302e-16 -1.11022302e-16  3.81208829e-02]]\n",
                  "\n",
                  "Après itération 3:\n",
                  "Matrice Q mise à jour:\n",
                  "[[-0.29542458 -0.37956    -0.26673817 -0.8351702 ]\n",
                  " [-0.37956    -0.3452673  -0.40249597  0.52182461]\n",
                  " [-0.26673817 -0.36255348 -0.77446661  0.09367698]\n",
                  " [-0.8351702   0.77799722 -0.40871654 -0.1463367 ]]\n",
                  "Matrice A après réflexion:\n",
                  "[[-1.02136925e+00 -1.18764976e+00 -1.09165150e+00]\n",
                  " [ 5.55111512e-17 -9.24586465e-01 -3.59400265e-01]\n",
                  " [ 5.55111512e-17  5.55111512e-17 -6.78722266e-02]\n",
                  " [ 1.11022302e-16 -1.11022302e-16 -6.93889390e-18]]\n",
                  "\n",
                  "Matrice A:\n",
                  "[[-1.02136925e+00 -1.18764976e+00 -1.09165150e+00]\n",
                  " [ 5.55111512e-17 -9.24586465e-01 -3.59400265e-01]\n",
                  " [ 5.55111512e-17  5.55111512e-17 -6.78722266e-02]\n",
                  " [ 1.11022302e-16 -1.11022302e-16 -6.93889390e-18]]\n",
                  "\n",
                  "Matrice Q (Householder):\n",
                  "[[-0.29542458 -0.37956    -0.26673817]\n",
                  " [-0.37956    -0.3452673  -0.40249597]\n",
                  " [-0.26673817 -0.36255348 -0.77446661]\n",
                  " [-0.8351702   0.77799722 -0.40871654]]\n",
                  "\n",
                  "Matrice R (Householder):\n",
                  "[[-1.02136925e+00 -1.18764976e+00 -1.09165150e+00]\n",
                  " [ 5.55111512e-17 -9.24586465e-01 -3.59400265e-01]\n",
                  " [ 5.55111512e-17  5.55111512e-17 -6.78722266e-02]]\n",
                  "\n",
                  "Différence A - QR (Householder):\n",
                  "[[1.32310683 1.88944674 1.56867027]\n",
                  " [0.38767092 1.69460028 0.92515497]\n",
                  " [0.27243816 0.65200356 0.54192394]\n",
                  " [0.85301716 0.27256399 0.6598429 ]]\n",
                  "\n",
                  "Vérification A = QR (Householder):\n",
                  "False\n",
                  "\n",
                  "Matrice Q (numpy.linalg.qr):\n",
                  "[[-1.00000000e+00 -5.43497381e-17 -5.43497381e-17]\n",
                  " [ 5.43497381e-17 -1.00000000e+00  9.77442628e-18]\n",
                  " [ 5.43497381e-17 -9.77442628e-18 -1.00000000e+00]\n",
                  " [ 1.08699476e-16 -2.59704439e-16 -4.75349016e-16]]\n",
                  "\n",
                  "Matrice R (numpy.linalg.qr):\n",
                  "[[1.02136925 1.18764976 1.0916515 ]\n",
                  " [0.         0.92458647 0.35940026]\n",
                  " [0.         0.         0.06787223]]\n",
                  "\n",
                  "Vérification A = QR (numpy.linalg.qr):\n",
                  "True\n"
               ]
            }
         ],
         "source": [
            "A = np.random.rand(4, 3)  # Exemple de matrice 4x3\n",
            "Q, R = householder_qr(A)\n",
            "#ça marche pas avec householder\n",
            "\n",
            "# Comparaison avec la décomposition QR de numpy\n",
            "Q_np, R_np = np.linalg.qr(A)\n",
            "\n",
            "# Affichage des résultats\n",
            "print(\"\\nMatrice A:\")\n",
            "print(A)\n",
            "print(\"\\nMatrice Q (Householder):\")\n",
            "print(Q)\n",
            "print(\"\\nMatrice R (Householder):\")\n",
            "print(R)\n",
            "\n",
            "# Affichage de la différence entre A et QR\n",
            "difference = np.dot(Q, R) - A\n",
            "print(\"\\nDifférence A - QR (Householder):\")\n",
            "print(difference)\n",
            "\n",
            "# Vérification A = QR avec une tolérance plus stricte\n",
            "print(\"\\nVérification A = QR (Householder):\")\n",
            "print(np.allclose(np.dot(Q, R), A, atol=1e-8))  # Augmenter la tolérance (atol)\n",
            "\n",
            "# Affichage des résultats numpy\n",
            "print(\"\\nMatrice Q (numpy.linalg.qr):\")\n",
            "print(Q_np)\n",
            "print(\"\\nMatrice R (numpy.linalg.qr):\")\n",
            "print(R_np)\n",
            "\n",
            "# Comparaison avec numpy.linalg.qr\n",
            "print(\"\\nVérification A = QR (numpy.linalg.qr):\")\n",
            "print(np.allclose(np.dot(Q_np, R_np), A, atol=1e-8))  # Vérification de la méthode numpy"
         ]
      },
      {
         "cell_type": "markdown",
         "metadata": {},
         "source": [
            "### e. À l’aide de la matrice utilisée en $\\mathbf{d}$, illustrez comment la multiplication successive des matrices $\\mathbf{Q_i}$ triangularise progressivement la matrice $\\mathbf{A}$. Dans l’élan, assurez-vous que les matrices $\\mathbf{Q}$ et $\\mathbf{R}$ obtenues sont bien orthogonale et triangulaire supérieure, respectivement.\n"
         ]
      },
      {
         "cell_type": "markdown",
         "metadata": {},
         "source": [
            "# Question 2 : Mesures imprécises dans un jeu de bataille navale"
         ]
      },
      {
         "cell_type": "markdown",
         "metadata": {},
         "source": [
            "### a. Modifiez votre code de décomposition QR pour qu’il retourne la décomposition QR réduite de la matrice d’entrée lorsque l’argument additionnel *reduite=True* lui est passé.\n"
         ]
      },
      {
         "cell_type": "markdown",
         "metadata": {},
         "source": [
            "### b. Utilisez votre code pour résoudre approximativement l’équation suivante avec les données de bataille_navale_equipe015.csv."
         ]
      },
      {
         "cell_type": "markdown",
         "metadata": {},
         "source": [
            "$$\\underbrace{\\left[\\begin{array}{ccc}\n",
            "1 & x_1 & x_1^2 \\\\\n",
            "1 & x_2 & x_2^2 \\\\\n",
            "\\vdots & \\vdots & \\vdots \\\\\n",
            "1 & x_n & x_n^2\n",
            "\\end{array}\\right]}_{\\mathbf{X}}\\left[\\begin{array}{l}\n",
            "\\alpha_0 \\\\\n",
            "\\alpha_1 \\\\\n",
            "\\alpha_2\n",
            "\\end{array}\\right]=\\underbrace{\\left[\\begin{array}{c}\n",
            "y_1 \\\\\n",
            "y_2 \\\\\n",
            "\\vdots \\\\\n",
            "y_n\n",
            "\\end{array}\\right]}_{\\mathbf{Y}}$$"
         ]
      },
      {
         "cell_type": "markdown",
         "metadata": {},
         "source": [
            "### c. Tracez les données (cercles noirs) et la solution estimée de la trajectoire(ligne pleine de la couleur de votre choix) donnée par l’équation suivante:"
         ]
      },
      {
         "cell_type": "markdown",
         "metadata": {},
         "source": [
            "$$y(x) = \\alpha_0 + \\alpha_1 x + \\alpha_2 x^2$$"
         ]
      },
      {
         "cell_type": "markdown",
         "metadata": {},
         "source": [
            "### d. Obtenez la position d’impact du projectile (à y = 0) en résolvant l’équation quadratique $y(x) = \\alpha_0 + \\alpha_1 x + \\alpha_2 x^2$ pour x à l’aide d’une implémentation personnelle de la méthode de la bissection. Comparez votre solution avec celle obtenue en résolvant cette même équation analytiquement. Considérant que votre embarcation se situe à la position (x, y) = (0, 0), quelle est la distance horizontale vous séparant du point d’impact ?"
         ]
      },
      {
         "cell_type": "markdown",
         "metadata": {},
         "source": [
            "# Question 3: Modèle épidemiologique SIR sur réseau"
         ]
      },
      {
         "cell_type": "markdown",
         "metadata": {},
         "source": [
            "### a) Trouvez analytiquement toutes les solutions de l’équation cubique $$u = \\frac{1}{[1+T(\\kappa-1)(1-u)]^2} \\equiv f(u)$$"
         ]
      },
      {
         "cell_type": "markdown",
         "metadata": {},
         "source": [
            "On commence par modifier l'équation en une équation polynomiale de 3e degré.\n",
            "En multipliant $u$ par le dénominateur, on obtient:\n",
            "$$u[1+T(\\kappa-1)(1-u)]^2=1$$\n",
            "On remplace $A=T(\\kappa-1)$ pour simplifier les calculs.\n",
            "On développe le terme au carré et on redéveloppe l'équation en mettant tous les termes du même côté:\n",
            "$$u[(1+a)^2-2A(1+A)u+A^2u^2]=1$$\n",
            "$$A^2u^3-2A(1+A)u^2+(1+A)^2u-1=0$$\n",
            "On souhaite ainsi résoudre l'équation cubique.\n",
            "On remarque rapidement qu'on peut factoriser $(u-1)$, ce qui revient à dire que $u_1=1$ est solution. Effectivement:\n",
            "$$A^2(1)^3-2A(1+A)(1)^2+(1+A)^2(1)-1=A^2-2A-2A^2+q+2A+A^2-1=0$$\n",
            "L'équation devient alors:\n",
            "$$(u-1)(A^2u^2-A^2u+1)$$\n",
            "On résoud ainsi la deuxième partie de l'équation, soit l'équation quadratique. On obtient:\n",
            "$$u_{2,3}=\\frac{A^2\\pm\\sqrt{A^4-4A^2}}{2A^2}=\\frac{1\\pm\\sqrt{1-4/A^2}}{2}$$\n",
            "Ainsi, les solutions analytiques sont, avec $A=T(\\kappa-1)$:\n",
            "$$u_1 = 1$$\n",
            "$$u_2=\\frac{1\\pm\\sqrt{1-4/A^2}}{2} = \\frac{1\\pm\\sqrt{1-4/(T(\\kappa-1))^2}}{2}$$\n",
            "$$u_3 =\\frac{1\\pm\\sqrt{1-4/A^2}}{2} = \\frac{1\\pm\\sqrt{1-4/(T(\\kappa-1))^2}}{2}$$\n"
         ]
      },
      {
         "cell_type": "markdown",
         "metadata": {},
         "source": [
            "### b. Démontrez laquelle des solutions obtenues précédemment (ou une combinaison de celles-ci) correspond à u, soit la solution recherchée de l’équation"
         ]
      },
      {
         "cell_type": "markdown",
         "metadata": {},
         "source": [
            "### c. Tracez $R_{\\infty}$ en fonction de T et identifiez tout changement qualitatif de $R_{\\infty}$. Comment interprétez-vous ce changement (ou cette absence de changement) ?"
         ]
      },
      {
         "cell_type": "markdown",
         "metadata": {},
         "source": [
            "### d. Résolvez numériquement l’équation à l’aide d’implémentations personnelles de la méthode par relaxation et de la méthode de Newton-Raphson pour 20 valeurs de T uniformément distribuées dans l’intervalle [0, 1]."
         ]
      }
   ],
   "metadata": {
      "kernelspec": {
         "display_name": "Python 3",
         "language": "python",
         "name": "python3"
      },
      "language_info": {
         "codemirror_mode": {
            "name": "ipython",
            "version": 3
         },
         "file_extension": ".py",
         "mimetype": "text/x-python",
         "name": "python",
         "nbconvert_exporter": "python",
         "pygments_lexer": "ipython3",
         "version": "3.11.9"
      }
   },
   "nbformat": 4,
   "nbformat_minor": 2
}
